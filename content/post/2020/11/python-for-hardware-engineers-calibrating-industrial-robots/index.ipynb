{
 "cells": [
  {
   "cell_type": "markdown",
   "metadata": {},
   "source": [
    "---\n",
    " \n",
    "title: \"Python for Hardware Engineers Calibrating Industrial Robots\"\n",
    "subtitle: \"\"\n",
    "summary: \"\"\n",
    "authors: []\n",
    "tags: []\n",
    "categories: []\n",
    "date: 2020-11-17T07:30:59-05:00\n",
    "lastmod: 2020-11-17T07:30:59-05:00\n",
    "featured: false\n",
    "draft: false\n",
    "image:\n",
    "  caption: \"\"\n",
    "  focal_point: \"\"\n",
    "  preview_only: false\n",
    "projects: []\n",
    " \n",
    "---"
   ]
  },
  {
   "cell_type": "markdown",
   "metadata": {},
   "source": [
    "Modern robotic applications often rely on offline programming to reduce process downtime. \n",
    "In a virtual environment, robot application specialists may program, visualize, and test their robotic application before uploading it to the real production environment. \n",
    "This offline process saves both time and costs. \n",
    "However, to achieve a high level of fidelity between virtual and production environments, the robot system must be accurate.\n",
    "\n",
    "Unfortunately, even though most industrial robots are inherently precise (i.e., repeatable), they are not necessarily accurate. \n",
    "One cost-effective approach to obtaining a more accurate robot is through calibration, where the actual kinematic and non-kinematic parameters of the robot model are identified and improved upon when compared to the nominal model. \n",
    "\n",
    "During my Ph.D., I was fortunate to have been trained in robot calibration by [Albert Nubiola](https://www.linkedin.com/in/albertnubiola/), creator of [RoboDK](https://robodk.com/index) and [calibration expert](https://www.sciencedirect.com/science/article/abs/pii/S0736584512000816).\n",
    "One realization was the fact that once again, hardware engineers didn't have access to simple software and automation tools to make their job more efficient.\n",
    "So I created and [published](https://joss.theoj.org/papers/10.21105/joss.01738) [`pybotics`](https://github.com/nnadeau/pybotics), a Python toolbox for robotics, to replace the hacky MATLAB scripts I saw floating around the industry.\n",
    "\n",
    "In this post, we'll go through a working example of robot calibration using [`pybotics`](https://github.com/nnadeau/pybotics) for robot modeling, [`scipy`](https://www.scipy.org/) for optimization algorithms, and [`pandas`](https://pandas.pydata.org/) for data processing.\n",
    "\n",
    "## Modeling the Kinematic Chains with `pybotics`\n",
    "\n",
    "- https://www.mdpi.com/2218-6581/8/2/33/htm\n",
    "-  2. Calibration Model\n",
    "-  2.1. World and Tool Frames\n",
    "-  2.2. Tooling\n",
    "-  2.3. Kinematic Model\n",
    "\n",
    "## Collecting Laser Tracker Data\n",
    "\n",
    "- pandas and data processing\n",
    "\n",
    "## Optimization\n",
    "\n",
    "- https://github.com/nnadeau/pybotics/blob/master/examples/calibration.ipynb"
   ]
  }
 ],
 "metadata": {
  "kernelspec": {
   "display_name": "Python 3",
   "language": "python",
   "name": "python3"
  },
  "language_info": {
   "codemirror_mode": {
    "name": "ipython",
    "version": 3
   },
   "file_extension": ".py",
   "mimetype": "text/x-python",
   "name": "python",
   "nbconvert_exporter": "python",
   "pygments_lexer": "ipython3",
   "version": "3.8.6"
  }
 },
 "nbformat": 4,
 "nbformat_minor": 4
}
