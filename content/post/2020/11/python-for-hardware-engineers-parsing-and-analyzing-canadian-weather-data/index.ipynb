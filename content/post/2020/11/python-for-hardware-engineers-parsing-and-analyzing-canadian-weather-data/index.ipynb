{
 "cells": [
  {
   "cell_type": "markdown",
   "metadata": {},
   "source": [
    "---\n",
    "\n",
    "title: \"Python for Hardware Engineers: Fetching, Parsing, and Analyzing Canadian Weather Data\"\n",
    "subtitle: \"\"\n",
    "summary: \"\"\n",
    "authors: []\n",
    "tags: []\n",
    "categories: []\n",
    "date: 2020-11-03T07:30:47-05:00\n",
    "lastmod: 2020-11-03T07:30:47-05:00\n",
    "featured: false\n",
    "draft: false\n",
    "\n",
    "image:\n",
    "  caption: \"\"\n",
    "  focal_point: \"\"\n",
    "  preview_only: false\n",
    "\n",
    "projects: []\n",
    "\n",
    "---"
   ]
  },
  {
   "cell_type": "markdown",
   "metadata": {},
   "source": [
    "- as a follow up to my recent post on parsing and analyzing local environmental conditions using a data logger, we should often compare our data to the actual climate data to check for external influences\n",
    "- Montreal, MCTAVISH station\n",
    "- The Meteorological Service of Canada makes weather, climate, water and environmental data available to private sector, academics, and the general public. (https://eccc-msc.github.io/open-data/readme_en/)\n",
    "- https://climate.weather.gc.ca/climate_data/hourly_data_e.html?hlyRange=1994-02-01%7C2020-11-02&dlyRange=1994-07-26%7C2020-11-02&mlyRange=%7C&StationID=10761&Prov=QC&urlExtension=_e.html&searchType=stnProx&optLimit=specDate&Month=10&Day=2&StartYear=1840&EndYear=2020&Year=2020&selRowPerPage=25&Line=0&txtRadius=25&optProxType=city&selCity=45%7C31%7C73%7C39%7CMontr%C3%A9al&selPark=&txtCentralLatDeg=&txtCentralLatMin=0&txtCentralLatSec=0&txtCentralLongDeg=&txtCentralLongMin=0&txtCentralLongSec=0&txtLatDecDeg=&txtLongDecDeg=&timeframe=1\n",
    "- Advanced access: https://www.canada.ca/en/environment-climate-change/services/climate-change/canadian-centre-climate-services/display-download/advanced-tools.html\n",
    "\n",
    "- Other packages\n",
    "    - https://github.com/ropensci/weathercan (R)\n",
    "    - https://github.com/michaeldavie/env_canada (Python)\n",
    "    - https://github.com/photonlines/Gov-of-Canada-Historical-Weather-Data-Scraper (Python)\n",
    "    - https://github.com/ECCC-CCCS/climate-data-extraction-tool (nodeJS, official)\n",
    "    - But we can keep things simple without creating or installing a new package\n",
    "    \n",
    "- Intro to requests\n",
    "\n",
    "![](2020-11-04-07-56-03.png)\n",
    "\n",
    "![](2020-11-04-08-48-39.png)"
   ]
  },
  {
   "cell_type": "code",
   "execution_count": 39,
   "metadata": {},
   "outputs": [
    {
     "data": {
      "text/plain": [
       "'https://dd.weather.gc.ca/climate/observations/daily/csv/QC/climate_daily_QC_7024745_2018-12_P1D.csv'"
      ]
     },
     "metadata": {},
     "output_type": "display_data"
    },
    {
     "data": {
      "text/plain": [
       "<Response [200]>"
      ]
     },
     "metadata": {},
     "output_type": "display_data"
    }
   ],
   "source": [
    "import requests\n",
    "\n",
    "# make consta\n",
    "station_id = 7024745 # Montreal MCTAVISH station\n",
    "year = 2018\n",
    "month = 12\n",
    "day = 11\n",
    "frequency = \"daily\"\n",
    "province = 'QC'\n",
    "base_url = \"https://dd.weather.gc.ca/climate/observations\"\n",
    "date_period = {\n",
    "    'daily': f\"{year}-{month}_P1D\",\n",
    "    'monthly': f\"{year}_P1M\",\n",
    "}\n",
    "filename = f\"climate_{frequency}_{province}_{station_id}_{date_period[frequency]}.csv\"\n",
    "url = f\"{base_url}/{frequency}/csv/{province}/{filename}\"\n",
    "\n",
    "display(url)\n",
    "\n",
    "r = requests.get(url)\n",
    "with open(filename,'w') as f:\n",
    "    # if you ever publish your own data, please use utf-8 for raw data\n",
    "    # climate data defaults to 'ISO-8859-1' encoding and has special character for degree symbols... not needed\n",
    "    f.write(r.content.decode(\"utf-8\", errors=\"ignore\"))\n",
    "        \n",
    "display(r)"
   ]
  }
 ],
 "metadata": {
  "kernelspec": {
   "display_name": "Python 3",
   "language": "python",
   "name": "python3"
  },
  "language_info": {
   "codemirror_mode": {
    "name": "ipython",
    "version": 3
   },
   "file_extension": ".py",
   "mimetype": "text/x-python",
   "name": "python",
   "nbconvert_exporter": "python",
   "pygments_lexer": "ipython3",
   "version": "3.8.5"
  }
 },
 "nbformat": 4,
 "nbformat_minor": 4
}
